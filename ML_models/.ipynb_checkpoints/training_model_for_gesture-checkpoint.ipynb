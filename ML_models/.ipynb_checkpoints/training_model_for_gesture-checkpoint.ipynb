{
  "nbformat": 4,
  "nbformat_minor": 0,
  "metadata": {
    "accelerator": "GPU",
    "colab": {
      "name": "training_model_for_gesture.ipynb",
      "provenance": [],
      "collapsed_sections": [],
      "toc_visible": true,
      "include_colab_link": true
    },
    "kernelspec": {
      "display_name": "Python 3",
      "language": "python",
      "name": "python3"
    },
    "language_info": {
      "codemirror_mode": {
        "name": "ipython",
        "version": 3
      },
      "file_extension": ".py",
      "mimetype": "text/x-python",
      "name": "python",
      "nbconvert_exporter": "python",
      "pygments_lexer": "ipython3",
      "version": "3.6.10"
    }
  },
  "cells": [
    {
      "cell_type": "markdown",
      "metadata": {
        "id": "view-in-github",
        "colab_type": "text"
      },
      "source": [
        "<a href=\"https://colab.research.google.com/github/mukuakhilesh/my-first-blog/blob/master/training_model_for_gesture.ipynb\" target=\"_parent\"><img src=\"https://colab.research.google.com/assets/colab-badge.svg\" alt=\"Open In Colab\"/></a>"
      ]
    },
    {
      "cell_type": "code",
      "metadata": {
        "colab_type": "code",
        "id": "xlZwAh-Ifsr7",
        "colab": {}
      },
      "source": [
        "# from google.colab import drive\n",
        "# drive.mount('/content/drive')"
      ],
      "execution_count": 0,
      "outputs": []
    },
    {
      "cell_type": "code",
      "metadata": {
        "colab_type": "code",
        "id": "oGxLst-9c31A",
        "outputId": "ebb6c55f-4c49-4eb1-df8f-791e3d315a7d",
        "colab": {
          "base_uri": "https://localhost:8080/",
          "height": 118
        }
      },
      "source": [
        "# This is the source for our collected dataset.\n",
        " \n",
        "!git clone https://github.com/nikhilsinghh59/Secret-2"
      ],
      "execution_count": 2,
      "outputs": [
        {
          "output_type": "stream",
          "text": [
            "Cloning into 'Secret-2'...\n",
            "remote: Enumerating objects: 6114, done.\u001b[K\n",
            "remote: Total 6114 (delta 0), reused 0 (delta 0), pack-reused 6114\u001b[K\n",
            "Receiving objects: 100% (6114/6114), 215.25 MiB | 32.48 MiB/s, done.\n",
            "Resolving deltas: 100% (11/11), done.\n",
            "Checking out files: 100% (5988/5988), done.\n"
          ],
          "name": "stdout"
        }
      ]
    },
    {
      "cell_type": "code",
      "metadata": {
        "colab_type": "code",
        "id": "n8P3nUCvAabj",
        "colab": {}
      },
      "source": [
        "# Removing the unwanted files.\n",
        "\n",
        "!rm -r /content/Secret-2/.git"
      ],
      "execution_count": 0,
      "outputs": []
    },
    {
      "cell_type": "code",
      "metadata": {
        "id": "Piw-XpyBZCIw",
        "colab_type": "code",
        "colab": {}
      },
      "source": [
        "# Training on only prediction of upto 6 numbers.\n",
        "\n",
        "!rm -r /content/Secret-2/7\n",
        "!rm -r /content/Secret-2/6"
      ],
      "execution_count": 0,
      "outputs": []
    },
    {
      "cell_type": "code",
      "metadata": {
        "colab_type": "code",
        "id": "Pn-91ceoeJZN",
        "colab": {}
      },
      "source": [
        "#!rsync /content/Sign-Language-Digits-Dataset/Dataset/2/*.JPG  /content/drive/My\\ Drive/Finger\\ Dataset/2"
      ],
      "execution_count": 0,
      "outputs": []
    },
    {
      "cell_type": "code",
      "metadata": {
        "colab_type": "code",
        "id": "rPupZwG_gCu5",
        "colab": {}
      },
      "source": [
        "train_path = '/content/Secret-2/'"
      ],
      "execution_count": 0,
      "outputs": []
    },
    {
      "cell_type": "code",
      "metadata": {
        "colab_type": "code",
        "id": "sr7Ij21Nyg7J",
        "outputId": "f72f240e-86e8-48b6-8eea-6654c3cc3611",
        "colab": {
          "base_uri": "https://localhost:8080/",
          "height": 34
        }
      },
      "source": [
        "import os\n",
        "\n",
        "os.listdir(train_path)  # All the available counts present in dataset."
      ],
      "execution_count": 7,
      "outputs": [
        {
          "output_type": "execute_result",
          "data": {
            "text/plain": [
              "['1', '5', '4', '2', '0', '3']"
            ]
          },
          "metadata": {
            "tags": []
          },
          "execution_count": 7
        }
      ]
    },
    {
      "cell_type": "code",
      "metadata": {
        "colab_type": "code",
        "id": "kNCgVGFyg0yo",
        "outputId": "1311aa4a-6edb-47f9-ca58-0e0b16bac34a",
        "colab": {
          "base_uri": "https://localhost:8080/",
          "height": 34
        }
      },
      "source": [
        "import numpy as np\n",
        "import os\n",
        "import keras\n",
        "from keras.applications.resnet50 import ResNet50\n",
        "from keras.preprocessing import image\n",
        "from keras.optimizers import Adam\n",
        "from keras.layers import Dense,Activation,Flatten,Input,Dropout,GlobalAveragePooling2D\n",
        "from keras.models import Model\n",
        "from keras.utils import np_utils\n",
        "import random\n",
        "from keras.preprocessing.image import ImageDataGenerator\n",
        "\n",
        "import matplotlib.pyplot as plt\n"
      ],
      "execution_count": 8,
      "outputs": [
        {
          "output_type": "stream",
          "text": [
            "Using TensorFlow backend.\n"
          ],
          "name": "stderr"
        }
      ]
    },
    {
      "cell_type": "code",
      "metadata": {
        "colab_type": "code",
        "id": "eGfgQBCag4n3",
        "colab": {}
      },
      "source": [
        "data_generator = ImageDataGenerator(rotation_range=15 , rescale = 1/255.0 ,\n",
        "                                   zoom_range = 0.15 ,\n",
        "                                   validation_split = 0.2 , \n",
        "                                   horizontal_flip = True,\n",
        "                                    ) \n"
      ],
      "execution_count": 0,
      "outputs": []
    },
    {
      "cell_type": "code",
      "metadata": {
        "colab_type": "code",
        "id": "qT5q4f9dh_2w",
        "outputId": "695672b5-09ed-4f5a-86f4-36f8f6afe925",
        "colab": {
          "base_uri": "https://localhost:8080/",
          "height": 50
        }
      },
      "source": [
        "train_data = data_generator.flow_from_directory(\n",
        "    train_path , \n",
        "    class_mode='categorical',\n",
        "    batch_size=80 , \n",
        "    target_size = (224 , 224) , \n",
        "    shuffle = True , \n",
        "    subset = 'training'\n",
        ")\n",
        "\n",
        "valid_data = data_generator.flow_from_directory(\n",
        "    train_path , \n",
        "    class_mode='categorical',\n",
        "    batch_size=80 , \n",
        "    target_size = (224 , 224) , \n",
        "    shuffle = True , \n",
        "    subset = 'validation'\n",
        ")"
      ],
      "execution_count": 10,
      "outputs": [
        {
          "output_type": "stream",
          "text": [
            "Found 3658 images belonging to 6 classes.\n",
            "Found 910 images belonging to 6 classes.\n"
          ],
          "name": "stdout"
        }
      ]
    },
    {
      "cell_type": "code",
      "metadata": {
        "colab_type": "code",
        "id": "Ga9dYyNeiiOO",
        "outputId": "6c889777-669a-4cd6-a341-a05579cd247e",
        "colab": {
          "base_uri": "https://localhost:8080/",
          "height": 50
        }
      },
      "source": [
        "# Below we used pretrained models to prevent time used in edges detections.\n",
        "\n",
        "###########------------------VGG-------------------#############\n",
        "\n",
        "# Below we loaded a VGG model. This model has more weights but gives better accuracy overall.\n",
        "# model = keras.applications.vgg19.VGG19(include_top=False , input_shape=(224 , 224 , 3))\n",
        "\n",
        "\n",
        "################---------------MobileNet---------------------################\n",
        "# Here we load the pretrained MobileNet model due to it's lightweight feature.\n",
        "model = keras.applications.mobilenet.MobileNet(include_top=False , input_shape=(224 , 224 , 3))"
      ],
      "execution_count": 11,
      "outputs": [
        {
          "output_type": "stream",
          "text": [
            "Downloading data from https://github.com/fchollet/deep-learning-models/releases/download/v0.6/mobilenet_1_0_224_tf_no_top.h5\n",
            "17227776/17225924 [==============================] - 1s 0us/step\n"
          ],
          "name": "stdout"
        }
      ]
    },
    {
      "cell_type": "code",
      "metadata": {
        "colab_type": "code",
        "id": "BVpvX5VxjDh1",
        "colab": {}
      },
      "source": [
        "# model.summary()"
      ],
      "execution_count": 0,
      "outputs": []
    },
    {
      "cell_type": "code",
      "metadata": {
        "colab_type": "code",
        "id": "QibnTvHxjkGg",
        "colab": {}
      },
      "source": [
        "# Adding more layers to our model \n",
        "# Making our own classifier\n",
        "\n",
        "# GlobalAvg replaces each channel by its mean reducing the no of parameters\n",
        "\n",
        "av1 = GlobalAveragePooling2D()(model.output)  # Output of our resnet model will go as input to globalAvg\n",
        "fc1 = Dense(256,activation='relu')(av1)\n",
        "d1 = Dropout(0.25)(fc1)\n",
        "d2 = Dense(128 , activation='relu')(d1)\n",
        "d3 = Dropout(0.25)(d2)\n",
        "d4 = Dense(128 , activation='relu')(d3)\n",
        "fc2 = Dense(6,activation='softmax')(d4)  # Note: If the model is trained for count upto 7. Change the output layer nodes to 8 from 6.\n",
        "\n",
        "model_new = Model(inputs=model.input, outputs= fc2)\n",
        "# model_new.summary()\n"
      ],
      "execution_count": 0,
      "outputs": []
    },
    {
      "cell_type": "code",
      "metadata": {
        "colab_type": "code",
        "id": "m_VcG0y2j-9G",
        "colab": {}
      },
      "source": [
        "# Here for MobileNet model we had try tried training a particular amount of layers/custom added layers. But it did not yield the best model.\n",
        "# So we train all the trainable layers of MobileNet layers. This provided the best model for our project\n",
        "\n",
        "for layer in model_new.layers:\n",
        "  layer.trainable = True\n",
        "\n",
        "######################----------------VGG------------------#########################\n",
        "# Whereas as compared to mobileNet model when used a VGG model training only the additonal and some previous layers gave the best model.\n",
        "# So if using VGG training only last 8 layers was more than apt.\n",
        "# In our project MobileNet was preffered due to it's lightweight as the whole project was executed on Rspberry PI.\n",
        " \n",
        "# for layer in model_new.layers[-7 : -1]:\n",
        "#   layer.trainable = True"
      ],
      "execution_count": 0,
      "outputs": []
    },
    {
      "cell_type": "code",
      "metadata": {
        "colab_type": "code",
        "id": "qpp4YbrrkkEG",
        "colab": {}
      },
      "source": [
        "adam = Adam(lr=0.001)"
      ],
      "execution_count": 0,
      "outputs": []
    },
    {
      "cell_type": "code",
      "metadata": {
        "colab_type": "code",
        "id": "LmHsfdXdkp6G",
        "outputId": "4a949e4c-b17a-4a21-a7a7-47b97debc131",
        "colab": {
          "base_uri": "https://localhost:8080/",
          "height": 1000
        }
      },
      "source": [
        "model_new.compile(loss = 'categorical_crossentropy' , optimizer = adam , metrics = ['accuracy'])\n",
        "\n",
        "model_new.summary()"
      ],
      "execution_count": 16,
      "outputs": [
        {
          "output_type": "stream",
          "text": [
            "Model: \"model_1\"\n",
            "_________________________________________________________________\n",
            "Layer (type)                 Output Shape              Param #   \n",
            "=================================================================\n",
            "input_1 (InputLayer)         (None, 224, 224, 3)       0         \n",
            "_________________________________________________________________\n",
            "conv1_pad (ZeroPadding2D)    (None, 225, 225, 3)       0         \n",
            "_________________________________________________________________\n",
            "conv1 (Conv2D)               (None, 112, 112, 32)      864       \n",
            "_________________________________________________________________\n",
            "conv1_bn (BatchNormalization (None, 112, 112, 32)      128       \n",
            "_________________________________________________________________\n",
            "conv1_relu (ReLU)            (None, 112, 112, 32)      0         \n",
            "_________________________________________________________________\n",
            "conv_dw_1 (DepthwiseConv2D)  (None, 112, 112, 32)      288       \n",
            "_________________________________________________________________\n",
            "conv_dw_1_bn (BatchNormaliza (None, 112, 112, 32)      128       \n",
            "_________________________________________________________________\n",
            "conv_dw_1_relu (ReLU)        (None, 112, 112, 32)      0         \n",
            "_________________________________________________________________\n",
            "conv_pw_1 (Conv2D)           (None, 112, 112, 64)      2048      \n",
            "_________________________________________________________________\n",
            "conv_pw_1_bn (BatchNormaliza (None, 112, 112, 64)      256       \n",
            "_________________________________________________________________\n",
            "conv_pw_1_relu (ReLU)        (None, 112, 112, 64)      0         \n",
            "_________________________________________________________________\n",
            "conv_pad_2 (ZeroPadding2D)   (None, 113, 113, 64)      0         \n",
            "_________________________________________________________________\n",
            "conv_dw_2 (DepthwiseConv2D)  (None, 56, 56, 64)        576       \n",
            "_________________________________________________________________\n",
            "conv_dw_2_bn (BatchNormaliza (None, 56, 56, 64)        256       \n",
            "_________________________________________________________________\n",
            "conv_dw_2_relu (ReLU)        (None, 56, 56, 64)        0         \n",
            "_________________________________________________________________\n",
            "conv_pw_2 (Conv2D)           (None, 56, 56, 128)       8192      \n",
            "_________________________________________________________________\n",
            "conv_pw_2_bn (BatchNormaliza (None, 56, 56, 128)       512       \n",
            "_________________________________________________________________\n",
            "conv_pw_2_relu (ReLU)        (None, 56, 56, 128)       0         \n",
            "_________________________________________________________________\n",
            "conv_dw_3 (DepthwiseConv2D)  (None, 56, 56, 128)       1152      \n",
            "_________________________________________________________________\n",
            "conv_dw_3_bn (BatchNormaliza (None, 56, 56, 128)       512       \n",
            "_________________________________________________________________\n",
            "conv_dw_3_relu (ReLU)        (None, 56, 56, 128)       0         \n",
            "_________________________________________________________________\n",
            "conv_pw_3 (Conv2D)           (None, 56, 56, 128)       16384     \n",
            "_________________________________________________________________\n",
            "conv_pw_3_bn (BatchNormaliza (None, 56, 56, 128)       512       \n",
            "_________________________________________________________________\n",
            "conv_pw_3_relu (ReLU)        (None, 56, 56, 128)       0         \n",
            "_________________________________________________________________\n",
            "conv_pad_4 (ZeroPadding2D)   (None, 57, 57, 128)       0         \n",
            "_________________________________________________________________\n",
            "conv_dw_4 (DepthwiseConv2D)  (None, 28, 28, 128)       1152      \n",
            "_________________________________________________________________\n",
            "conv_dw_4_bn (BatchNormaliza (None, 28, 28, 128)       512       \n",
            "_________________________________________________________________\n",
            "conv_dw_4_relu (ReLU)        (None, 28, 28, 128)       0         \n",
            "_________________________________________________________________\n",
            "conv_pw_4 (Conv2D)           (None, 28, 28, 256)       32768     \n",
            "_________________________________________________________________\n",
            "conv_pw_4_bn (BatchNormaliza (None, 28, 28, 256)       1024      \n",
            "_________________________________________________________________\n",
            "conv_pw_4_relu (ReLU)        (None, 28, 28, 256)       0         \n",
            "_________________________________________________________________\n",
            "conv_dw_5 (DepthwiseConv2D)  (None, 28, 28, 256)       2304      \n",
            "_________________________________________________________________\n",
            "conv_dw_5_bn (BatchNormaliza (None, 28, 28, 256)       1024      \n",
            "_________________________________________________________________\n",
            "conv_dw_5_relu (ReLU)        (None, 28, 28, 256)       0         \n",
            "_________________________________________________________________\n",
            "conv_pw_5 (Conv2D)           (None, 28, 28, 256)       65536     \n",
            "_________________________________________________________________\n",
            "conv_pw_5_bn (BatchNormaliza (None, 28, 28, 256)       1024      \n",
            "_________________________________________________________________\n",
            "conv_pw_5_relu (ReLU)        (None, 28, 28, 256)       0         \n",
            "_________________________________________________________________\n",
            "conv_pad_6 (ZeroPadding2D)   (None, 29, 29, 256)       0         \n",
            "_________________________________________________________________\n",
            "conv_dw_6 (DepthwiseConv2D)  (None, 14, 14, 256)       2304      \n",
            "_________________________________________________________________\n",
            "conv_dw_6_bn (BatchNormaliza (None, 14, 14, 256)       1024      \n",
            "_________________________________________________________________\n",
            "conv_dw_6_relu (ReLU)        (None, 14, 14, 256)       0         \n",
            "_________________________________________________________________\n",
            "conv_pw_6 (Conv2D)           (None, 14, 14, 512)       131072    \n",
            "_________________________________________________________________\n",
            "conv_pw_6_bn (BatchNormaliza (None, 14, 14, 512)       2048      \n",
            "_________________________________________________________________\n",
            "conv_pw_6_relu (ReLU)        (None, 14, 14, 512)       0         \n",
            "_________________________________________________________________\n",
            "conv_dw_7 (DepthwiseConv2D)  (None, 14, 14, 512)       4608      \n",
            "_________________________________________________________________\n",
            "conv_dw_7_bn (BatchNormaliza (None, 14, 14, 512)       2048      \n",
            "_________________________________________________________________\n",
            "conv_dw_7_relu (ReLU)        (None, 14, 14, 512)       0         \n",
            "_________________________________________________________________\n",
            "conv_pw_7 (Conv2D)           (None, 14, 14, 512)       262144    \n",
            "_________________________________________________________________\n",
            "conv_pw_7_bn (BatchNormaliza (None, 14, 14, 512)       2048      \n",
            "_________________________________________________________________\n",
            "conv_pw_7_relu (ReLU)        (None, 14, 14, 512)       0         \n",
            "_________________________________________________________________\n",
            "conv_dw_8 (DepthwiseConv2D)  (None, 14, 14, 512)       4608      \n",
            "_________________________________________________________________\n",
            "conv_dw_8_bn (BatchNormaliza (None, 14, 14, 512)       2048      \n",
            "_________________________________________________________________\n",
            "conv_dw_8_relu (ReLU)        (None, 14, 14, 512)       0         \n",
            "_________________________________________________________________\n",
            "conv_pw_8 (Conv2D)           (None, 14, 14, 512)       262144    \n",
            "_________________________________________________________________\n",
            "conv_pw_8_bn (BatchNormaliza (None, 14, 14, 512)       2048      \n",
            "_________________________________________________________________\n",
            "conv_pw_8_relu (ReLU)        (None, 14, 14, 512)       0         \n",
            "_________________________________________________________________\n",
            "conv_dw_9 (DepthwiseConv2D)  (None, 14, 14, 512)       4608      \n",
            "_________________________________________________________________\n",
            "conv_dw_9_bn (BatchNormaliza (None, 14, 14, 512)       2048      \n",
            "_________________________________________________________________\n",
            "conv_dw_9_relu (ReLU)        (None, 14, 14, 512)       0         \n",
            "_________________________________________________________________\n",
            "conv_pw_9 (Conv2D)           (None, 14, 14, 512)       262144    \n",
            "_________________________________________________________________\n",
            "conv_pw_9_bn (BatchNormaliza (None, 14, 14, 512)       2048      \n",
            "_________________________________________________________________\n",
            "conv_pw_9_relu (ReLU)        (None, 14, 14, 512)       0         \n",
            "_________________________________________________________________\n",
            "conv_dw_10 (DepthwiseConv2D) (None, 14, 14, 512)       4608      \n",
            "_________________________________________________________________\n",
            "conv_dw_10_bn (BatchNormaliz (None, 14, 14, 512)       2048      \n",
            "_________________________________________________________________\n",
            "conv_dw_10_relu (ReLU)       (None, 14, 14, 512)       0         \n",
            "_________________________________________________________________\n",
            "conv_pw_10 (Conv2D)          (None, 14, 14, 512)       262144    \n",
            "_________________________________________________________________\n",
            "conv_pw_10_bn (BatchNormaliz (None, 14, 14, 512)       2048      \n",
            "_________________________________________________________________\n",
            "conv_pw_10_relu (ReLU)       (None, 14, 14, 512)       0         \n",
            "_________________________________________________________________\n",
            "conv_dw_11 (DepthwiseConv2D) (None, 14, 14, 512)       4608      \n",
            "_________________________________________________________________\n",
            "conv_dw_11_bn (BatchNormaliz (None, 14, 14, 512)       2048      \n",
            "_________________________________________________________________\n",
            "conv_dw_11_relu (ReLU)       (None, 14, 14, 512)       0         \n",
            "_________________________________________________________________\n",
            "conv_pw_11 (Conv2D)          (None, 14, 14, 512)       262144    \n",
            "_________________________________________________________________\n",
            "conv_pw_11_bn (BatchNormaliz (None, 14, 14, 512)       2048      \n",
            "_________________________________________________________________\n",
            "conv_pw_11_relu (ReLU)       (None, 14, 14, 512)       0         \n",
            "_________________________________________________________________\n",
            "conv_pad_12 (ZeroPadding2D)  (None, 15, 15, 512)       0         \n",
            "_________________________________________________________________\n",
            "conv_dw_12 (DepthwiseConv2D) (None, 7, 7, 512)         4608      \n",
            "_________________________________________________________________\n",
            "conv_dw_12_bn (BatchNormaliz (None, 7, 7, 512)         2048      \n",
            "_________________________________________________________________\n",
            "conv_dw_12_relu (ReLU)       (None, 7, 7, 512)         0         \n",
            "_________________________________________________________________\n",
            "conv_pw_12 (Conv2D)          (None, 7, 7, 1024)        524288    \n",
            "_________________________________________________________________\n",
            "conv_pw_12_bn (BatchNormaliz (None, 7, 7, 1024)        4096      \n",
            "_________________________________________________________________\n",
            "conv_pw_12_relu (ReLU)       (None, 7, 7, 1024)        0         \n",
            "_________________________________________________________________\n",
            "conv_dw_13 (DepthwiseConv2D) (None, 7, 7, 1024)        9216      \n",
            "_________________________________________________________________\n",
            "conv_dw_13_bn (BatchNormaliz (None, 7, 7, 1024)        4096      \n",
            "_________________________________________________________________\n",
            "conv_dw_13_relu (ReLU)       (None, 7, 7, 1024)        0         \n",
            "_________________________________________________________________\n",
            "conv_pw_13 (Conv2D)          (None, 7, 7, 1024)        1048576   \n",
            "_________________________________________________________________\n",
            "conv_pw_13_bn (BatchNormaliz (None, 7, 7, 1024)        4096      \n",
            "_________________________________________________________________\n",
            "conv_pw_13_relu (ReLU)       (None, 7, 7, 1024)        0         \n",
            "_________________________________________________________________\n",
            "global_average_pooling2d_1 ( (None, 1024)              0         \n",
            "_________________________________________________________________\n",
            "dense_1 (Dense)              (None, 256)               262400    \n",
            "_________________________________________________________________\n",
            "dropout_1 (Dropout)          (None, 256)               0         \n",
            "_________________________________________________________________\n",
            "dense_2 (Dense)              (None, 128)               32896     \n",
            "_________________________________________________________________\n",
            "dropout_2 (Dropout)          (None, 128)               0         \n",
            "_________________________________________________________________\n",
            "dense_3 (Dense)              (None, 128)               16512     \n",
            "_________________________________________________________________\n",
            "dense_4 (Dense)              (None, 6)                 774       \n",
            "=================================================================\n",
            "Total params: 3,541,446\n",
            "Trainable params: 3,519,558\n",
            "Non-trainable params: 21,888\n",
            "_________________________________________________________________\n"
          ],
          "name": "stdout"
        }
      ]
    },
    {
      "cell_type": "code",
      "metadata": {
        "id": "nCdwRONiym93",
        "colab_type": "code",
        "colab": {}
      },
      "source": [
        "# Defining Callback for early stopping and saving the best model so far\n",
        "\n",
        "from keras.callbacks import EarlyStopping, ModelCheckpoint\n",
        "\n",
        "callbacks = [EarlyStopping(monitor='val_loss', patience=10,verbose=1),\n",
        "             ModelCheckpoint(filepath='best_mobileNet_model.h5', monitor='val_loss', save_best_only=True)]"
      ],
      "execution_count": 0,
      "outputs": []
    },
    {
      "cell_type": "code",
      "metadata": {
        "colab_type": "code",
        "id": "GZJvWvDNkxjd",
        "outputId": "ad8ec468-52d8-4ec4-f227-adeb74e1e76f",
        "colab": {
          "base_uri": "https://localhost:8080/",
          "height": 1000
        }
      },
      "source": [
        "hist = model_new.fit_generator(train_data , epochs = 500 ,callbacks=callbacks, validation_data=valid_data , \n",
        "                               shuffle=True)"
      ],
      "execution_count": 18,
      "outputs": [
        {
          "output_type": "stream",
          "text": [
            "Epoch 1/500\n",
            "46/46 [==============================] - 73s 2s/step - loss: 0.2872 - accuracy: 0.8904 - val_loss: 1.8330 - val_accuracy: 0.6648\n",
            "Epoch 2/500\n",
            "46/46 [==============================] - 65s 1s/step - loss: 0.0490 - accuracy: 0.9874 - val_loss: 2.0268 - val_accuracy: 0.7253\n",
            "Epoch 3/500\n",
            "46/46 [==============================] - 68s 1s/step - loss: 0.0180 - accuracy: 0.9956 - val_loss: 0.3565 - val_accuracy: 0.9352\n",
            "Epoch 4/500\n",
            "46/46 [==============================] - 66s 1s/step - loss: 0.0279 - accuracy: 0.9921 - val_loss: 0.1858 - val_accuracy: 0.9275\n",
            "Epoch 5/500\n",
            "46/46 [==============================] - 66s 1s/step - loss: 0.0079 - accuracy: 0.9984 - val_loss: 0.0428 - val_accuracy: 0.9407\n",
            "Epoch 6/500\n",
            "46/46 [==============================] - 66s 1s/step - loss: 0.0098 - accuracy: 0.9964 - val_loss: 0.1701 - val_accuracy: 0.9582\n",
            "Epoch 7/500\n",
            "46/46 [==============================] - 66s 1s/step - loss: 0.0251 - accuracy: 0.9923 - val_loss: 0.1184 - val_accuracy: 0.9681\n",
            "Epoch 8/500\n",
            "46/46 [==============================] - 67s 1s/step - loss: 0.0064 - accuracy: 0.9978 - val_loss: 0.4750 - val_accuracy: 0.8835\n",
            "Epoch 9/500\n",
            "46/46 [==============================] - 67s 1s/step - loss: 0.0182 - accuracy: 0.9973 - val_loss: 0.3511 - val_accuracy: 0.9352\n",
            "Epoch 10/500\n",
            "46/46 [==============================] - 67s 1s/step - loss: 0.0030 - accuracy: 0.9992 - val_loss: 2.9456e-05 - val_accuracy: 0.9681\n",
            "Epoch 11/500\n",
            "46/46 [==============================] - 67s 1s/step - loss: 0.0039 - accuracy: 0.9986 - val_loss: 0.2107 - val_accuracy: 0.9440\n",
            "Epoch 12/500\n",
            "46/46 [==============================] - 67s 1s/step - loss: 0.0298 - accuracy: 0.9921 - val_loss: 3.2435 - val_accuracy: 0.6527\n",
            "Epoch 13/500\n",
            "46/46 [==============================] - 67s 1s/step - loss: 0.0595 - accuracy: 0.9872 - val_loss: 2.7406 - val_accuracy: 0.5615\n",
            "Epoch 14/500\n",
            "46/46 [==============================] - 67s 1s/step - loss: 0.0093 - accuracy: 0.9978 - val_loss: 0.0237 - val_accuracy: 0.9198\n",
            "Epoch 15/500\n",
            "46/46 [==============================] - 68s 1s/step - loss: 0.0035 - accuracy: 0.9992 - val_loss: 0.3268 - val_accuracy: 0.9253\n",
            "Epoch 16/500\n",
            "46/46 [==============================] - 67s 1s/step - loss: 0.0030 - accuracy: 0.9992 - val_loss: 0.0233 - val_accuracy: 0.9319\n",
            "Epoch 17/500\n",
            "46/46 [==============================] - 67s 1s/step - loss: 4.0026e-04 - accuracy: 1.0000 - val_loss: 0.1906 - val_accuracy: 0.9571\n",
            "Epoch 18/500\n",
            "46/46 [==============================] - 67s 1s/step - loss: 6.1952e-04 - accuracy: 0.9997 - val_loss: 1.2482 - val_accuracy: 0.9253\n",
            "Epoch 19/500\n",
            "46/46 [==============================] - 68s 1s/step - loss: 1.4922e-04 - accuracy: 1.0000 - val_loss: 1.9018e-05 - val_accuracy: 0.9352\n",
            "Epoch 20/500\n",
            "46/46 [==============================] - 67s 1s/step - loss: 7.5068e-05 - accuracy: 1.0000 - val_loss: 0.1046 - val_accuracy: 0.9429\n",
            "Epoch 21/500\n",
            "46/46 [==============================] - 67s 1s/step - loss: 9.9363e-04 - accuracy: 0.9995 - val_loss: 0.3784 - val_accuracy: 0.9626\n",
            "Epoch 22/500\n",
            "46/46 [==============================] - 67s 1s/step - loss: 0.0147 - accuracy: 0.9978 - val_loss: 3.3379 - val_accuracy: 0.6846\n",
            "Epoch 23/500\n",
            "46/46 [==============================] - 68s 1s/step - loss: 0.0275 - accuracy: 0.9940 - val_loss: 1.8852 - val_accuracy: 0.5846\n",
            "Epoch 24/500\n",
            "46/46 [==============================] - 68s 1s/step - loss: 0.0239 - accuracy: 0.9937 - val_loss: 0.6198 - val_accuracy: 0.7769\n",
            "Epoch 25/500\n",
            "46/46 [==============================] - 68s 1s/step - loss: 0.0056 - accuracy: 0.9986 - val_loss: 0.1994 - val_accuracy: 0.9769\n",
            "Epoch 26/500\n",
            "46/46 [==============================] - 69s 1s/step - loss: 0.0033 - accuracy: 0.9989 - val_loss: 0.1350 - val_accuracy: 0.9659\n",
            "Epoch 27/500\n",
            "46/46 [==============================] - 68s 1s/step - loss: 0.0096 - accuracy: 0.9984 - val_loss: 0.0019 - val_accuracy: 0.9615\n",
            "Epoch 28/500\n",
            "46/46 [==============================] - 68s 1s/step - loss: 0.0035 - accuracy: 0.9986 - val_loss: 0.0104 - val_accuracy: 0.9538\n",
            "Epoch 29/500\n",
            "46/46 [==============================] - 69s 1s/step - loss: 0.0013 - accuracy: 0.9997 - val_loss: 0.0042 - val_accuracy: 0.9637\n",
            "Epoch 00029: early stopping\n"
          ],
          "name": "stdout"
        }
      ]
    },
    {
      "cell_type": "code",
      "metadata": {
        "colab_type": "code",
        "id": "hTlHF-yklaOf",
        "colab": {}
      },
      "source": [
        ""
      ],
      "execution_count": 0,
      "outputs": []
    },
    {
      "cell_type": "code",
      "metadata": {
        "colab_type": "code",
        "id": "76mDnalzI5P4",
        "colab": {
          "base_uri": "https://localhost:8080/",
          "height": 573
        },
        "outputId": "7e62320d-d225-4b53-e2d6-025f5e7ad5a6"
      },
      "source": [
        "# summarize history for accuracy\n",
        "plt.plot(hist.history['accuracy'])\n",
        "plt.plot(hist.history['val_accuracy'])\n",
        "plt.title('model accuracy')\n",
        "plt.ylabel('accuracy')\n",
        "plt.xlabel('epoch')\n",
        "plt.legend(['train', 'test'], loc='upper left')\n",
        "plt.show()\n",
        "# summarize history for loss\n",
        "plt.plot(hist.history['loss'])\n",
        "plt.plot(hist.history['val_loss'])\n",
        "plt.title('model loss')\n",
        "plt.ylabel('loss')\n",
        "plt.xlabel('epoch')\n",
        "plt.legend(['train', 'test'], loc='upper left')\n",
        "plt.show()"
      ],
      "execution_count": 19,
      "outputs": [
        {
          "output_type": "display_data",
          "data": {
            "image/png": "[encoded data removed]",
            "text/plain": [
              "<Figure size 432x288 with 1 Axes>"
            ]
          },
          "metadata": {
            "tags": [],
            "needs_background": "light"
          }
        },
        {
          "output_type": "display_data",
          "data": {
            "image/png": "[encoded data removed]",
            "text/plain": [
              "<Figure size 432x288 with 1 Axes>"
            ]
          },
          "metadata": {
            "tags": [],
            "needs_background": "light"
          }
        }
      ]
    },
    {
      "cell_type": "markdown",
      "metadata": {
        "colab_type": "text",
        "id": "IVmRM_cHkVfB"
      },
      "source": [
        ""
      ]
    },
    {
      "cell_type": "code",
      "metadata": {
        "colab_type": "code",
        "id": "9DeI59ZHrfyd",
        "colab": {}
      },
      "source": [
        "# Below is  the code to check for results of any image from various folder\n",
        "\n",
        "\n",
        "# import cv2\n",
        "# from google.colab.patches import cv2_imshow\n",
        "# from keras.models import load_model\n",
        "\n",
        "# img = .imread('/content/examples/')\n",
        "# cv2_imshow(img)\n",
        "# img = cv2.resize(img,(224,224),cv2.INTER_AREA)\n",
        "\n",
        "\n",
        "# img_arr=[]\n",
        "# img_arr.append(image.img_to_array(img))\n",
        "\n",
        "# img_arr = np.array(img_arr)\n",
        "\n",
        "# print(img_arr.shape)\n",
        "\n",
        "# saved_model = load_model('best_mobileNet_model.h5')\n",
        "\n",
        "# y = saved_model.predict(img_arr)\n",
        "\n",
        "# y_classes = y.argmax(axis=-1)\n",
        "\n",
        "# print(y)\n",
        "# print(y_classes)"
      ],
      "execution_count": 0,
      "outputs": []
    },
    {
      "cell_type": "markdown",
      "metadata": {
        "id": "pdvneGmv66IJ",
        "colab_type": "text"
      },
      "source": [
        "\n",
        "\n",
        "Below Code is for converting and saving the saved model to a tflite model.\n",
        "\n",
        "```\n",
        "```\n",
        "\n",
        "\n",
        "tflite is better option for Raspberry PI and android apps because of it's low processing requirements "
      ]
    },
    {
      "cell_type": "code",
      "metadata": {
        "id": "PCRlRGBx6thb",
        "colab_type": "code",
        "colab": {
          "base_uri": "https://localhost:8080/",
          "height": 34
        },
        "outputId": "5b3dd806-0a45-48a7-839f-125708bf56ee"
      },
      "source": [
        "import tensorflow as tf\n",
        "\n",
        "model_path = '/content/best_mobileNet_model.h5'\n",
        "\n",
        "# Load tensorflow model\n",
        "\n",
        "model  = tf.keras.models.load_model(model_path , compile=True)"
      ],
      "execution_count": 21,
      "outputs": [
        {
          "output_type": "stream",
          "text": [
            "WARNING:tensorflow:Error in loading the saved optimizer state. As a result, your model is starting with a freshly initialized optimizer.\n"
          ],
          "name": "stdout"
        }
      ]
    },
    {
      "cell_type": "code",
      "metadata": {
        "id": "Adf8vdGi63Ih",
        "colab_type": "code",
        "colab": {
          "base_uri": "https://localhost:8080/",
          "height": 50
        },
        "outputId": "7d4b93b6-791c-4c96-88c4-62d4418b4ef7"
      },
      "source": [
        "# Load tensorflow model\n",
        "\n",
        "model  = tf.keras.models.load_model(model_path , compile=True)\n",
        "\n",
        "#Coverting loaded model to tflite\n",
        "\n",
        "converter = tf.lite.TFLiteConverter.from_keras_model(model)\n",
        "\n",
        "tflite_model = converter.convert()\n",
        "\n",
        "open('mobile_net_v1.tflite','wb').write(tflite_model)"
      ],
      "execution_count": 22,
      "outputs": [
        {
          "output_type": "stream",
          "text": [
            "WARNING:tensorflow:Error in loading the saved optimizer state. As a result, your model is starting with a freshly initialized optimizer.\n"
          ],
          "name": "stdout"
        },
        {
          "output_type": "execute_result",
          "data": {
            "text/plain": [
              "14045788"
            ]
          },
          "metadata": {
            "tags": []
          },
          "execution_count": 22
        }
      ]
    },
    {
      "cell_type": "code",
      "metadata": {
        "id": "dA15Uofy7l1Z",
        "colab_type": "code",
        "colab": {}
      },
      "source": [
        ""
      ],
      "execution_count": 0,
      "outputs": []
    }
  ]
}